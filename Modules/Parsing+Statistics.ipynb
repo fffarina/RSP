{
 "metadata": {
  "orig_nbformat": 2,
  "kernelspec": {
   "name": "myvenv",
   "display_name": "myvenv",
   "language": "python"
  }
 },
 "nbformat": 4,
 "nbformat_minor": 2,
 "cells": [
  {
   "cell_type": "code",
   "execution_count": 21,
   "metadata": {},
   "outputs": [],
   "source": [
    "%matplotlib widget\n",
    "import numpy as np \n",
    "import copy\n",
    "import statsmodels.api as sm\n",
    "import matplotlib.pyplot as plt\n",
    "import functools as fn \n",
    "import glob, os\n",
    "#from pathlib import Path\n",
    "#Function that clears workspace variables\n",
    "def reset_session():\n",
    "    all_data = mRNA_lis1 = mRNA_lis2 = time_lis = []    \n",
    "#Function to compute variance on lists of arrays\n",
    "def variance(list_values, mean):\n",
    "    def inner(n):\n",
    "        r1 = ((n - mean)**2)/len(list_values)\n",
    "        return r1\n",
    "    results = list(map(inner, list_values))\n",
    "    return results\n",
    "#Function to compute fano factor and CV^2 on lists of arrays\n",
    "def noise(list_variances, mean):\n",
    "    def fano(variance):\n",
    "        r1 = (variance / (mean))\n",
    "        return r1\n",
    "    def CVsq(variance):\n",
    "        r2 = (variance / (mean)**2)\n",
    "        return r2\n",
    "    fano_factor = list(map(fano, list_variances))\n",
    "    CV_sq = list(map(CVsq, list_variances))\n",
    "    return fano_factor, CV_sq\n",
    "#Function to compute list with crosscorrelations on lists of arrays\n",
    "def correlator(list_mRNA1, list_mRNA2):\n",
    "    result_list = []\n",
    "    copy1 = copy.deepcopy(list_mRNA1); copy2 = copy.deepcopy(list_mRNA2)\n",
    "    while (copy1 != []) and (len(copy1) == len(copy2)):\n",
    "        array_one = copy1.pop(); array_two = copy2.pop()\n",
    "        array_res = np.nan_to_num(sm.tsa.stattools.ccf(array_one, array_two))\n",
    "        result_list.append(array_res)\n",
    "    return result_list\n",
    "#Read folder content and store file names\n",
    "txt_folder = glob.glob(os.path.expanduser('~/Stochpy/*.txt'))\n",
    "#txt_folder = Path('./').rglob('*.txt')"
   ]
  },
  {
   "cell_type": "code",
   "execution_count": 22,
   "metadata": {
    "tags": []
   },
   "outputs": [],
   "source": [
    "#Lists containing parsed data\n",
    "length_data = len(txt_folder)\n",
    "all_data = []; mRNA_lis1 = []; mRNA_lis2 = []; time_lis = []\n",
    "mRNA_1 = []; mRNA_2  = []; time = []  \n",
    "#Open all files and store content in lists\n",
    "for i, name in enumerate(txt_folder):\n",
    "    f = open(name, 'r')  \n",
    "    all_data.append(f.readlines())\n",
    "    f.close()\n",
    "    text = all_data[i]\n",
    "    for index, lines in enumerate(text[2:]): #Read all lines from stored files and split desired columns       \n",
    "        num1 = float(lines.split(\"\\t\")[0])\n",
    "        num2 = float(lines.split(\"\\t\")[4])\n",
    "        num3 = float(lines.split(\"\\t\")[8])\n",
    "        time.append(num1); mRNA_1.append(num2); mRNA_2.append(num3) #Append desired values into separated lists      \n",
    "    mRNA_1 = np.array(mRNA_1); mRNA_2 = np.array(mRNA_2); time = np.array(time) #Converts lists into arrays\n",
    "    mRNA_lis1.insert(i,mRNA_1); mRNA_lis2.insert(i,mRNA_2); time_lis.insert(i,time) #Insert arrays into lists \n",
    "    mRNA_1 = []; mRNA_2  = []; time = []     "
   ]
  },
  {
   "cell_type": "code",
   "execution_count": 24,
   "metadata": {},
   "outputs": [
    {
     "output_type": "stream",
     "name": "stderr",
     "text": [
      "/home/ffarina/myvenv/lib/python3.7/site-packages/statsmodels/tsa/stattools.py:1140: RuntimeWarning: invalid value encountered in true_divide\n",
      "  return cvf / (np.std(x) * np.std(y))\n",
      "/home/ffarina/myvenv/lib/python3.7/site-packages/statsmodels/tsa/stattools.py:662: FutureWarning: The default number of lags is changing from 40 tomin(int(10 * np.log10(nobs)), nobs - 1) after 0.12is released. Set the number of lags to an integer to  silence this warning.\n",
      "  FutureWarning,\n",
      "/home/ffarina/myvenv/lib/python3.7/site-packages/statsmodels/tsa/stattools.py:671: FutureWarning: fft=True will become the default after the release of the 0.12 release of statsmodels. To suppress this warning, explicitly set fft=False.\n",
      "  FutureWarning,\n",
      "/home/ffarina/myvenv/lib/python3.7/site-packages/ipykernel_launcher.py:22: RuntimeWarning: invalid value encountered in true_divide\n",
      "/home/ffarina/myvenv/lib/python3.7/site-packages/ipykernel_launcher.py:25: RuntimeWarning: invalid value encountered in true_divide\n"
     ]
    }
   ],
   "source": [
    "#Create arrays with average of each data point in time series\n",
    "avg_mRNA1 = np.array(fn.reduce((lambda a,b: (a+b)/2),mRNA_lis1))\n",
    "avg_mRNA2 = np.array(fn.reduce((lambda a,b: (a+b)/2),mRNA_lis2))\n",
    "avg_time = np.array(fn.reduce((lambda a,b: (a+b)/2),time_lis))\n",
    "#Create arrays and lists of arrays with statistics on tracked species\n",
    "avg_lis = [avg_mRNA1, avg_mRNA2]\n",
    "avg_mRNAtot = np.array(fn.reduce((lambda a,b: (a+b)/2),avg_lis)) #Total average mRNA copy number over time [array]\n",
    "cross_avg = np.array(fn.reduce(sm.tsa.stattools.ccf,avg_lis)) #Crosscorrelation of avg_mRNA1 and avg_mRNA2 copy number over time [array]\n",
    "cross = np.array(fn.reduce((lambda a,b: (a+b)/2),correlator(mRNA_lis1, mRNA_lis2))) #Average crosscorrelation of arrays in mRNA_lis1 and mRNA_lis2 [array]\n",
    "cross_avg_norm = cross_avg / max(cross_avg) #Normalized array of cross_avg [array]\n",
    "cross_norm = cross / max(cross) #Normalized array of cross_avg [array]\n",
    "auto1 = sm.tsa.stattools.acf(avg_mRNA1) #Autocorrelation of mRNA1 copy number over time [array]\n",
    "auto2 = sm.tsa.stattools.acf(avg_mRNA2) #Autocorrelation of mRNA2 copy number over time [array]\n",
    "mRNA1_var = variance(mRNA_lis1,avg_mRNA1) #Variance on every simulated trajectory for mRNA1 [list of arrays]\n",
    "mRNA2_var = variance(mRNA_lis2,avg_mRNA2) #Variance on every simulated trajectory for mRNA2 [list of arrays]\n",
    "fano_mRNA1, CVsq_mRNA1 = noise(mRNA1_var,avg_mRNA1) #Fano factor and CVsq for every simulated trajectory for mRNA1 [list of arrays]\n",
    "fano_mRNA2, CVsq_mRNA2 = noise(mRNA2_var,avg_mRNA2) #Fano factor and CVsq for every simulated trajectory for mRNA2 [list of arrays]\n",
    "avgfano_mRNA1 = np.array(fn.reduce((lambda a,b: (a+b)/2),fano_mRNA1)) #Average fano factor for mRNA1 [array]\n",
    "avgfano_mRNA2 = np.array(fn.reduce((lambda a,b: (a+b)/2),fano_mRNA2)) #Average fano factor for mRNA2 [array]\n",
    "avgCVsq_mRNA1 = np.array(fn.reduce((lambda a,b: (a+b)/2),CVsq_mRNA1)) #Average CVsq for mRNA1 [array]\n",
    "avgCVsq_mRNA2 = np.array(fn.reduce((lambda a,b: (a+b)/2),CVsq_mRNA2)) #Average CVsq for mRNA2 [array]"
   ]
  },
  {
   "cell_type": "code",
   "execution_count": 27,
   "metadata": {},
   "outputs": [
    {
     "output_type": "display_data",
     "data": {
      "text/plain": "Canvas(toolbar=Toolbar(toolitems=[('Home', 'Reset original view', 'home', 'home'), ('Back', 'Back to previous …",
      "application/vnd.jupyter.widget-view+json": {
       "version_major": 2,
       "version_minor": 0,
       "model_id": "6747a8d27f8f41eb9c175f0170d160ef"
      }
     },
     "metadata": {}
    },
    {
     "output_type": "execute_result",
     "data": {
      "text/plain": [
       "<function matplotlib.pyplot.show(block=None)>"
      ]
     },
     "metadata": {},
     "execution_count": 27
    }
   ],
   "source": [
    "plt.figure()\n",
    "plt.plot(cross_norm)\n",
    "plt.xlabel(\"Time lag \\u03C4\")\n",
    "plt.ylabel(\"Crosscorrelation\")\n",
    "plt.title(\"Average crosscorrelation for all trajectories (n=3000)\")\n",
    "plt.show"
   ]
  },
  {
   "cell_type": "code",
   "execution_count": 20,
   "metadata": {},
   "outputs": [],
   "source": [
    "reset_session()"
   ]
  },
  {
   "cell_type": "code",
   "execution_count": null,
   "metadata": {},
   "outputs": [],
   "source": []
  }
 ]
}