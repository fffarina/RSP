{
 "metadata": {
  "orig_nbformat": 2,
  "kernelspec": {
   "name": "myvenv",
   "display_name": "myvenv",
   "language": "python"
  }
 },
 "nbformat": 4,
 "nbformat_minor": 2,
 "cells": [
  {
   "cell_type": "code",
   "execution_count": 71,
   "metadata": {},
   "outputs": [],
   "source": [
    "%matplotlib widget\n",
    "import networkx as nx \n",
    "import matplotlib.pyplot as plt\n",
    "import numpy as np "
   ]
  },
  {
   "cell_type": "code",
   "execution_count": 72,
   "metadata": {},
   "outputs": [],
   "source": [
    "#Create random graphs and lognormally distributed weights\n",
    "G = nx.barabasi_albert_graph(10,2)\n",
    "weights = list(np.random.lognormal(0.05, 0.2, len(G.edges)))\n",
    "\n",
    "#Randomly assigns weights to edges\n",
    "for i, edges in enumerate(G.edges):\n",
    "    G.edges[edges]['weight'] = weights.pop()"
   ]
  },
  {
   "cell_type": "code",
   "execution_count": 75,
   "metadata": {},
   "outputs": [],
   "source": [
    "#Looks for longest random path from random node \n",
    "source = int(np.random.random_integers(0,9,1))\n",
    "G_shortest = nx.shortest_path(G, source, weight='weight')\n",
    "\n",
    "longest_path_G = []\n",
    "\n",
    "for i, item in enumerate(G_shortest):\n",
    "    if len(G_shortest[i]) > len(longest_path_G):\n",
    "        longest_path_G = G_shortest[i]\n",
    "\n",
    "\n",
    "#Colors nodes in shortest path\n",
    "G_color_map = []\n",
    "\n",
    "for node in G:\n",
    "    if node in longest_path_G:\n",
    "        G_color_map.append('green')\n",
    "    else:\n",
    "        G_color_map.append('blue')\n"
   ]
  }
 ]
}