{
 "metadata": {
  "orig_nbformat": 2,
  "kernelspec": {
   "name": "myvenv",
   "display_name": "myvenv",
   "language": "python"
  }
 },
 "nbformat": 4,
 "nbformat_minor": 2,
 "cells": [
  {
   "cell_type": "code",
   "execution_count": 71,
   "metadata": {},
   "outputs": [],
   "source": [
    "%matplotlib widget\n",
    "import networkx as nx \n",
    "import matplotlib.pyplot as plt"
   ]
  },
  {
   "cell_type": "code",
   "execution_count": 72,
   "metadata": {},
   "outputs": [],
   "source": [
    "#Create random graphs\n",
    "G = nx.barabasi_albert_graph(30,4)\n",
    "H = nx.watts_strogatz_graph(30,4,0.1)"
   ]
  },
  {
   "cell_type": "code",
   "execution_count": 75,
   "metadata": {},
   "outputs": [],
   "source": [
    "#Looks for longest random path computed in graphs and colors nodes belonging to it\n",
    "\n",
    "G_shortest = nx.shortest_path(G, 0)\n",
    "H_shortest = nx.shortest_path(H, 0)\n",
    "longest_path_G = []\n",
    "longest_path_H = []\n",
    "\n",
    "for i, item in enumerate(G_shortest):\n",
    "    if len(G_shortest[i]) > len(longest_path_G):\n",
    "        longest_path_G = G_shortest[i]\n",
    "    if len(H_shortest[i]) > len(longest_path_H):\n",
    "        longest_path_H = H_shortest[i] \n",
    "\n",
    "G_color_map = []\n",
    "H_color_map = []\n",
    "\n",
    "for node in G:\n",
    "    if node in longest_path_G:\n",
    "        G_color_map.append('green')\n",
    "    else:\n",
    "        G_color_map.append('blue')\n",
    "for node in H:\n",
    "    if node in longest_path_H:\n",
    "        H_color_map.append('green')\n",
    "    else:\n",
    "        H_color_map.append('blue')"
   ]
  }
 ]
}