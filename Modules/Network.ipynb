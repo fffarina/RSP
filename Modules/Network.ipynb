{
 "metadata": {
  "orig_nbformat": 2,
  "kernelspec": {
   "name": "myvenv",
   "display_name": "myvenv",
   "language": "python"
  }
 },
 "nbformat": 4,
 "nbformat_minor": 2,
 "cells": [
  {
   "cell_type": "code",
   "execution_count": 71,
   "metadata": {},
   "outputs": [],
   "source": [
    "%matplotlib widget\n",
    "import networkx as nx \n",
    "import matplotlib.pyplot as plt"
   ]
  },
  {
   "cell_type": "code",
   "execution_count": 72,
   "metadata": {},
   "outputs": [],
   "source": [
    "#Create random graphs\n",
    "G = nx.barabasi_albert_graph(30,4)\n",
    "H = nx.watts_strogatz_graph(30,4,0.1)"
   ]
  },
  {
   "cell_type": "code",
   "execution_count": 73,
   "metadata": {},
   "outputs": [
    {
     "output_type": "display_data",
     "data": {
      "text/plain": "Canvas(toolbar=Toolbar(toolitems=[('Home', 'Reset original view', 'home', 'home'), ('Back', 'Back to previous …",
      "application/vnd.jupyter.widget-view+json": {
       "version_major": 2,
       "version_minor": 0,
       "model_id": "c90a7083d0494d3a92e6b97b7f64c57e"
      }
     },
     "metadata": {}
    }
   ],
   "source": [
    "#Plots first random graph\n",
    "plt.figure()\n",
    "plt.title(\"Barabasi-Albert Graph\")\n",
    "nx.draw(G,with_labels=True)\n",
    "plt.show()"
   ]
  },
  {
   "cell_type": "code",
   "execution_count": 82,
   "metadata": {},
   "outputs": [
    {
     "output_type": "display_data",
     "data": {
      "text/plain": "Canvas(toolbar=Toolbar(toolitems=[('Home', 'Reset original view', 'home', 'home'), ('Back', 'Back to previous …",
      "application/vnd.jupyter.widget-view+json": {
       "version_major": 2,
       "version_minor": 0,
       "model_id": "84221253cdb04a28bc1bc5220e37f761"
      }
     },
     "metadata": {}
    }
   ],
   "source": [
    "#Plots second random graph\n",
    "plt.figure()\n",
    "plt.title(\"Watts-Strogatz Graph\")\n",
    "nx.draw(H,with_labels=True)\n",
    "plt.show()"
   ]
  },
  {
   "cell_type": "code",
   "execution_count": 75,
   "metadata": {},
   "outputs": [],
   "source": [
    "#Looks for longest random path computed in graphs and colors nodes belonging to it\n",
    "\n",
    "G_shortest = nx.shortest_path(G, 0)\n",
    "H_shortest = nx.shortest_path(H, 0)\n",
    "longest_path_G = []\n",
    "longest_path_H = []\n",
    "\n",
    "for i, item in enumerate(G_shortest):\n",
    "    if len(G_shortest[i]) > len(longest_path_G):\n",
    "        longest_path_G = G_shortest[i]\n",
    "    if len(H_shortest[i]) > len(longest_path_H):\n",
    "        longest_path_H = H_shortest[i] \n",
    "\n",
    "G_color_map = []\n",
    "H_color_map = []\n",
    "\n",
    "for node in G:\n",
    "    if node in longest_path_G:\n",
    "        G_color_map.append('green')\n",
    "    else:\n",
    "        G_color_map.append('blue')\n",
    "for node in H:\n",
    "    if node in longest_path_H:\n",
    "        H_color_map.append('green')\n",
    "    else:\n",
    "        H_color_map.append('blue')"
   ]
  },
  {
   "cell_type": "code",
   "execution_count": 84,
   "metadata": {},
   "outputs": [
    {
     "output_type": "display_data",
     "data": {
      "text/plain": "Canvas(toolbar=Toolbar(toolitems=[('Home', 'Reset original view', 'home', 'home'), ('Back', 'Back to previous …",
      "application/vnd.jupyter.widget-view+json": {
       "version_major": 2,
       "version_minor": 0,
       "model_id": "7ba73370d756483185cc4dca4d2cdf1a"
      }
     },
     "metadata": {}
    }
   ],
   "source": [
    "#Plots selected random walk in Barabasi-Albert graph\n",
    "plt.figure()\n",
    "plt.suptitle(\"Random path in Barabasi-Albert\")\n",
    "plt.title(longest_path_G)\n",
    "nx.draw(G,node_color=G_color_map,with_labels=True)"
   ]
  },
  {
   "cell_type": "code",
   "execution_count": 87,
   "metadata": {},
   "outputs": [
    {
     "output_type": "display_data",
     "data": {
      "text/plain": "Canvas(toolbar=Toolbar(toolitems=[('Home', 'Reset original view', 'home', 'home'), ('Back', 'Back to previous …",
      "application/vnd.jupyter.widget-view+json": {
       "version_major": 2,
       "version_minor": 0,
       "model_id": "3c0fb72744f14f89a13d99d706271cdf"
      }
     },
     "metadata": {}
    }
   ],
   "source": [
    "#Plots selected random walk in Watts-Strogatz graph\n",
    "plt.figure()\n",
    "plt.suptitle(\"Random path in Watts-Strogatz Graph\")\n",
    "plt.title(longest_path_H)\n",
    "nx.draw(H,node_color=H_color_map,with_labels=True)"
   ]
  },
  {
   "cell_type": "code",
   "execution_count": 93,
   "metadata": {},
   "outputs": [],
   "source": [
    "I = nx.complete_graph(10)"
   ]
  }
 ]
}